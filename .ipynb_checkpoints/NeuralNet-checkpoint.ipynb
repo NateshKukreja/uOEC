{
 "cells": [
  {
   "cell_type": "code",
   "execution_count": 1,
   "metadata": {
    "collapsed": true
   },
   "outputs": [],
   "source": [
    "import pandas as pd\n",
    "import tensorflow as tf\n",
    "import numpy as np"
   ]
  },
  {
   "cell_type": "code",
   "execution_count": 2,
   "metadata": {
    "collapsed": true
   },
   "outputs": [],
   "source": [
    "sess = tf.Session()\n",
    "off_rtg = tf.placeholder(dtype=tf.float32)"
   ]
  },
  {
   "cell_type": "code",
   "execution_count": 3,
   "metadata": {},
   "outputs": [],
   "source": [
    "W_off_rtg = tf.Variable([np.random.random_sample(), np.random.random_sample()])\n",
    "b_off_rtg = tf.Variable([-1*np.random.random_sample(), -1*np.random.random_sample()])"
   ]
  },
  {
   "cell_type": "code",
   "execution_count": 4,
   "metadata": {
    "collapsed": true
   },
   "outputs": [],
   "source": [
    "model = tf.nn.softmax(off_rtg*W_off_rtg + b_off_rtg)\n",
    "y = tf.placeholder(tf.float32)"
   ]
  },
  {
   "cell_type": "code",
   "execution_count": 5,
   "metadata": {
    "collapsed": true
   },
   "outputs": [],
   "source": [
    "init = tf.global_variables_initializer()\n",
    "sess.run(init)"
   ]
  },
  {
   "cell_type": "code",
   "execution_count": 6,
   "metadata": {
    "collapsed": true
   },
   "outputs": [],
   "source": [
    "mse = tf.reduce_mean(tf.squared_difference(model, y))\n",
    "optimizer = tf.train.AdamOptimizer()\n",
    "train = optimizer.minimize(mse)"
   ]
  },
  {
   "cell_type": "code",
   "execution_count": 21,
   "metadata": {},
   "outputs": [],
   "source": [
    "# training data\n",
    "#off_train = [[92.7,89.5],[104.1,90.4],[117.0,127.5],[117.0,127.5]]\n",
    "#y_train = [[1,0],[1,0],[0,1],[0,1]]\n",
    "\n",
    "off_train = []\n",
    "y_train = []\n",
    "\n",
    "test_data = pd.read_csv(\"data/test.csv\", delimiter=',', header=None).values.tolist()\n",
    "\n",
    "for data in test_data:\n",
    "    off_train.append([data[0],data[1]])\n",
    "    y_train.append([data[2],data[3]])\n",
    "\n",
    "off_train = off_train[:400]\n",
    "y_train = y_train[:400]"
   ]
  },
  {
   "cell_type": "code",
   "execution_count": 22,
   "metadata": {},
   "outputs": [],
   "source": [
    "init = tf.global_variables_initializer()\n",
    "sess = tf.Session()\n",
    "sess.run(init)\n",
    "\n",
    "sess.run(train, {off_rtg: off_train, y: y_train})"
   ]
  },
  {
   "cell_type": "code",
   "execution_count": 23,
   "metadata": {},
   "outputs": [
    {
     "name": "stdout",
     "output_type": "stream",
     "text": [
      "[['Jan', 20, 2018, '7:00 pm', 'Miami Heat', 'Charlotte Hornets'], ['Jan', 20, 2018, '7:00 pm', 'Memphis Grizzlies', 'New Orleans Pelicans'], ['Jan', 20, 2018, '7:30 pm', 'Milwaukee Bucks', 'Philadelphia 76ers'], ['Jan', 20, 2018, '8:30 pm', 'Golden State Warriors', 'Houston Rockets'], ['Jan', 20, 2018, '9:00 pm', 'Toronto Raptors', 'Minnesota Timberwolves'], ['Jan', 20, 2018, '9:00 pm', 'Los Angeles Clippers', 'Utah Jazz'], ['Jan', 20, 2018, '10:00 pm', 'Dallas Mavericks', 'Portland Trail Blazers']]\n"
     ]
    }
   ],
   "source": [
    "off_ratings = pd.Series.from_csv(\"data/current_offrtg.csv\", header=None).to_dict()\n",
    "games_tonight = pd.read_csv(\"data/games_20012018.csv\", delimiter=',', header=None).values.tolist()\n",
    "print(games_tonight)"
   ]
  },
  {
   "cell_type": "code",
   "execution_count": 24,
   "metadata": {
    "collapsed": true
   },
   "outputs": [],
   "source": [
    "def make_prediction(game):\n",
    "    away_team = [game[4],off_ratings[game[4]]]\n",
    "    home_team = [game[5],off_ratings[game[5]]]\n",
    "    results = sess.run(model, feed_dict={off_rtg: [away_team[1],home_team[1]]})\n",
    "    if results[0] >= results[1]:\n",
    "        result = \"away\"\n",
    "        confidence = results[0]\n",
    "    else:\n",
    "        result = \"home\"\n",
    "        confidence = results[1]\n",
    "    \n",
    "    return [result, confidence]"
   ]
  },
  {
   "cell_type": "code",
   "execution_count": 25,
   "metadata": {},
   "outputs": [],
   "source": [
    "for game in games_tonight:\n",
    "    result, confidence = make_prediction(game)\n",
    "    game.append(result)\n",
    "    game.append(confidence)"
   ]
  },
  {
   "cell_type": "code",
   "execution_count": 26,
   "metadata": {},
   "outputs": [
    {
     "name": "stdout",
     "output_type": "stream",
     "text": [
      "[['Jan', 20, 2018, '7:00 pm', 'Miami Heat', 'Charlotte Hornets', 'home', 0.99999678], ['Jan', 20, 2018, '7:00 pm', 'Memphis Grizzlies', 'New Orleans Pelicans', 'home', 1.0], ['Jan', 20, 2018, '7:30 pm', 'Milwaukee Bucks', 'Philadelphia 76ers', 'home', 0.99993765], ['Jan', 20, 2018, '8:30 pm', 'Golden State Warriors', 'Houston Rockets', 'home', 0.99999571], ['Jan', 20, 2018, '9:00 pm', 'Toronto Raptors', 'Minnesota Timberwolves', 'home', 0.99999857], ['Jan', 20, 2018, '9:00 pm', 'Los Angeles Clippers', 'Utah Jazz', 'home', 0.99995875], ['Jan', 20, 2018, '10:00 pm', 'Dallas Mavericks', 'Portland Trail Blazers', 'home', 0.99999213]]\n"
     ]
    }
   ],
   "source": [
    "print(games_tonight)"
   ]
  },
  {
   "cell_type": "code",
   "execution_count": 27,
   "metadata": {},
   "outputs": [],
   "source": [
    "df = pd.DataFrame(games_tonight, columns=[\"Month\",\"Day\",\"Year\",\"Start (ET)\",\"Visitor\",\"Home\",\"Outcome\",\"Confidence\"])\n",
    "df.to_csv('results.csv', index=False)"
   ]
  },
  {
   "cell_type": "code",
   "execution_count": null,
   "metadata": {
    "collapsed": true
   },
   "outputs": [],
   "source": []
  }
 ],
 "metadata": {
  "kernelspec": {
   "display_name": "Python 3",
   "language": "python",
   "name": "python3"
  },
  "language_info": {
   "codemirror_mode": {
    "name": "ipython",
    "version": 3
   },
   "file_extension": ".py",
   "mimetype": "text/x-python",
   "name": "python",
   "nbconvert_exporter": "python",
   "pygments_lexer": "ipython3",
   "version": "3.6.3"
  }
 },
 "nbformat": 4,
 "nbformat_minor": 2
}
